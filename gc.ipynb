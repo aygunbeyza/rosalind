{
 "cells": [
  {
   "cell_type": "code",
   "execution_count": null,
   "id": "79b280cc",
   "metadata": {},
   "outputs": [
    {
     "ename": "AttributeError",
     "evalue": "'_io.TextIOWrapper' object has no attribute 'startswith'",
     "output_type": "error",
     "traceback": [
      "\u001b[0;31m---------------------------------------------------------------------------\u001b[0m",
      "\u001b[0;31mAttributeError\u001b[0m                            Traceback (most recent call last)",
      "Cell \u001b[0;32mIn[3], line 18\u001b[0m\n\u001b[1;32m     13\u001b[0m                 \u001b[38;5;28;01mbreak\u001b[39;00m\n\u001b[1;32m     15\u001b[0m     \u001b[38;5;28mprint\u001b[39m(output)\n\u001b[0;32m---> 18\u001b[0m \u001b[43mmain\u001b[49m\u001b[43m(\u001b[49m\u001b[43m)\u001b[49m\n",
      "Cell \u001b[0;32mIn[3], line 6\u001b[0m, in \u001b[0;36mmain\u001b[0;34m()\u001b[0m\n\u001b[1;32m      4\u001b[0m \u001b[38;5;28;01mfor\u001b[39;00m base \u001b[38;5;129;01min\u001b[39;00m file\u001b[38;5;241m.\u001b[39mreadlines():\n\u001b[1;32m      5\u001b[0m     output \u001b[38;5;241m=\u001b[39m []\n\u001b[0;32m----> 6\u001b[0m     \u001b[38;5;28;01mif\u001b[39;00m \u001b[43mfile\u001b[49m\u001b[38;5;241;43m.\u001b[39;49m\u001b[43mstartswith\u001b[49m(\u001b[38;5;124m\"\u001b[39m\u001b[38;5;124m>\u001b[39m\u001b[38;5;124m\"\u001b[39m):\n\u001b[1;32m      7\u001b[0m         output\u001b[38;5;241m.\u001b[39mappend(base)\n\u001b[1;32m      8\u001b[0m         gc \u001b[38;5;241m=\u001b[39m file\u001b[38;5;241m.\u001b[39mcount(\u001b[38;5;124m\"\u001b[39m\u001b[38;5;124mG\u001b[39m\u001b[38;5;124m\"\u001b[39m) \u001b[38;5;241m+\u001b[39m file\u001b[38;5;241m.\u001b[39mcount(\u001b[38;5;124m\"\u001b[39m\u001b[38;5;124mC\u001b[39m\u001b[38;5;124m\"\u001b[39m)\n",
      "\u001b[0;31mAttributeError\u001b[0m: '_io.TextIOWrapper' object has no attribute 'startswith'"
     ]
    }
   ],
   "source": [
    "def main():\n",
    "    file = open (\"files_rosalind/input/rosalind_gc.txt\")\n",
    "\n",
    "    output = []\n",
    "    seq = []\n",
    "    gc_seq =[]\n",
    "    seq_merge =[]\n",
    "    for base in file.readlines():\n",
    "        if base.startswith(\">\"):\n",
    "            output.append(base)\n",
    "        else:\n",
    "            seq.append(base)\n",
    "            seq_merge = \"\".join(seq)\n",
    "            gc = seq_merge.count(\"G\") + seq_merge.count(\"C\")\n",
    "            seq =[]\n",
    "            total = seq_merge.count(\"G\") + seq_merge.count(\"C\") + seq_merge.count(\"A\") + seq_merge.count(\"C\")\n",
    "            rate_of_gc = gc / total\n",
    "            output.append(rate_of_gc)\n",
    "            if \">\" in file:\n",
    "                break\n",
    "        \n",
    "    print(output)\n",
    "\n",
    "\n",
    "main()"
   ]
  }
 ],
 "metadata": {
  "kernelspec": {
   "display_name": "rosalind_env",
   "language": "python",
   "name": "python3"
  },
  "language_info": {
   "codemirror_mode": {
    "name": "ipython",
    "version": 3
   },
   "file_extension": ".py",
   "mimetype": "text/x-python",
   "name": "python",
   "nbconvert_exporter": "python",
   "pygments_lexer": "ipython3",
   "version": "3.9.15"
  }
 },
 "nbformat": 4,
 "nbformat_minor": 5
}
