{
 "cells": [
  {
   "cell_type": "code",
   "execution_count": null,
   "id": "70b48a58",
   "metadata": {},
   "outputs": [],
   "source": [
    "def main():\n",
    "    file= open(\"files_rosalind/input/rosalind_fib.txt\")\n",
    "\n",
    "\n",
    "    numbers =file.read()\n",
    "    n,k = map(int, numbers.strip().split())# map for change to int\n",
    "\n",
    "    def fibonacci(n,k):\n",
    "        if n ==1:\n",
    "            return 1\n",
    "        elif n == 2:\n",
    "            return 1\n",
    "        else:\n",
    "            return fibonacci(n-1,k) + fibonacci(n-2,k)*k\n",
    "        \n",
    "    print(fibonacci(n,k))\n",
    "    file.close()\n",
    "main()\n",
    "\n"
   ]
  }
 ],
 "metadata": {
  "language_info": {
   "name": "python"
  }
 },
 "nbformat": 4,
 "nbformat_minor": 5
}
