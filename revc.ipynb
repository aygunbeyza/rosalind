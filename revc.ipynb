{
 "cells": [
  {
   "cell_type": "code",
   "execution_count": 2,
   "id": "74892379",
   "metadata": {},
   "outputs": [],
   "source": [
    "def main():\n",
    "\n",
    "    file= open(\"files_rosalind/input/rosalind_revc.txt\", 'r')\n",
    "\n",
    "    reverse_complement =[]\n",
    "\n",
    "    for base in file.read():\n",
    "        if base == \"A\":\n",
    "            reverse_complement.append(\"T\")\n",
    "        elif base == \"T\":\n",
    "            reverse_complement.append(\"A\")\n",
    "        elif base == \"G\":\n",
    "            reverse_complement.append(\"C\")\n",
    "        elif base == \"C\":\n",
    "            reverse_complement.append(\"G\")\n",
    "\n",
    "\n",
    "    reverse_complement.reverse()\n",
    "\n",
    "    reverse_complement_result = \"\".join(reverse_complement)\n",
    "\n",
    "\n",
    "\n",
    "    with open(\"files_rosalind/output/revc_result.txt\", \"w\") as output_file:\n",
    "        output_file.write(reverse_complement_result)\n",
    "        \n",
    "    file.close()\n",
    "\n",
    "main()"
   ]
  }
 ],
 "metadata": {
  "kernelspec": {
   "display_name": "rosalind_env",
   "language": "python",
   "name": "python3"
  },
  "language_info": {
   "codemirror_mode": {
    "name": "ipython",
    "version": 3
   },
   "file_extension": ".py",
   "mimetype": "text/x-python",
   "name": "python",
   "nbconvert_exporter": "python",
   "pygments_lexer": "ipython3",
   "version": "3.9.15"
  }
 },
 "nbformat": 4,
 "nbformat_minor": 5
}
