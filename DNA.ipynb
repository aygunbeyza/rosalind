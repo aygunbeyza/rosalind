{
 "cells": [
  {
   "cell_type": "code",
   "execution_count": null,
   "id": "16ef1547",
   "metadata": {},
   "outputs": [
    {
     "name": "stdout",
     "output_type": "stream",
     "text": [
      "238\n",
      "227\n",
      "246\n",
      "223\n"
     ]
    }
   ],
   "source": [
    "with open(\"rosalind_dna.txt\") as file:\n",
    "    dna = file.read()\n",
    "\n",
    "print(dna.count(\"A\"))\n",
    "print(dna.count(\"T\"))\n",
    "print(dna.count(\"G\"))\n",
    "print(dna.count(\"C\"))"
   ]
  }
 ],
 "metadata": {
  "kernelspec": {
   "display_name": "rosalind_env",
   "language": "python",
   "name": "python3"
  },
  "language_info": {
   "codemirror_mode": {
    "name": "ipython",
    "version": 3
   },
   "file_extension": ".py",
   "mimetype": "text/x-python",
   "name": "python",
   "nbconvert_exporter": "python",
   "pygments_lexer": "ipython3",
   "version": "3.9.15"
  }
 },
 "nbformat": 4,
 "nbformat_minor": 5
}
